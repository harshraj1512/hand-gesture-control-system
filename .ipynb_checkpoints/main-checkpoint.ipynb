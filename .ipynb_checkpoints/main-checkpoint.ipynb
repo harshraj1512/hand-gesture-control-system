{
 "cells": [
  {
   "cell_type": "code",
   "execution_count": 1,
   "id": "9f989d78",
   "metadata": {},
   "outputs": [],
   "source": [
    "import mediapipe as mp #For hand-recognition\n",
    "import cv2 #For image-reading and manipulation"
   ]
  },
  {
   "cell_type": "code",
   "execution_count": 2,
   "id": "06d83476",
   "metadata": {},
   "outputs": [],
   "source": [
    "mp_drawing = mp.solutions.drawing_utils \n",
    "mp_drawing_styles = mp.solutions.drawing_styles\n",
    "mp_hands = mp.solutions.hands"
   ]
  },
  {
   "cell_type": "code",
   "execution_count": 3,
   "id": "ffdac927",
   "metadata": {},
   "outputs": [],
   "source": [
    "cap = cv2.VideoCapture(0) #Capturing frames from camera\n",
    "with mp_hands.Hands(\n",
    "    min_detection_confidence=0.5,\n",
    "    min_tracking_confidence=0.5) as hands:\n",
    "    \n",
    "  while cap.isOpened():\n",
    "    success, image = cap.read()\n",
    "    if not success:\n",
    "      print(\"Ignoring empty camera frame.\")\n",
    "      # If loading a video, use 'break' instead of 'continue'.\n",
    "      continue\n",
    "\n",
    "    # To improve performance, optionally mark the image as not writeable to pass by reference.\n",
    "    image.flags.writeable = False\n",
    "    image = cv2.cvtColor(image, cv2.COLOR_BGR2RGB) #Converting to RGB\n",
    "    results = hands.process(image) #Detecting hands in the image using mediapipe\n",
    "    image_hight, image_width, _ = image.shape\n",
    "\n",
    "    # Draw the hand annotations on the image.\n",
    "    image.flags.writeable = True\n",
    "    image = cv2.cvtColor(image, cv2.COLOR_RGB2BGR) \n",
    "    if results.multi_hand_landmarks: #If hands detected, annotating them\n",
    "      for hand_landmarks in results.multi_hand_landmarks:\n",
    "        mp_drawing.draw_landmarks(\n",
    "            image,\n",
    "            hand_landmarks, #The 20 points on hands\n",
    "            mp_hands.HAND_CONNECTIONS) #Connecting those 20 points\n",
    "        \n",
    "    # Flip the image horizontally for a selfie-view display.\n",
    "    cv2.imshow('Hand-Gesture-Control-System', cv2.flip(image, 1))\n",
    "    #Breaking the loop key\n",
    "    if cv2.waitKey(1) & 0xFF == ord('q'):\n",
    "      break\n",
    "cap.release()"
   ]
  },
  {
   "cell_type": "code",
   "execution_count": null,
   "id": "c8028206",
   "metadata": {},
   "outputs": [],
   "source": []
  }
 ],
 "metadata": {
  "kernelspec": {
   "display_name": "Python 3",
   "language": "python",
   "name": "python3"
  },
  "language_info": {
   "codemirror_mode": {
    "name": "ipython",
    "version": 3
   },
   "file_extension": ".py",
   "mimetype": "text/x-python",
   "name": "python",
   "nbconvert_exporter": "python",
   "pygments_lexer": "ipython3",
   "version": "3.9.4"
  }
 },
 "nbformat": 4,
 "nbformat_minor": 5
}
